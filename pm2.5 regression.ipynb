{
 "cells": [
  {
   "cell_type": "code",
   "execution_count": 1,
   "metadata": {},
   "outputs": [
    {
     "name": "stderr",
     "output_type": "stream",
     "text": [
      "C:\\Users\\michelle\\Anaconda3\\lib\\site-packages\\h5py\\__init__.py:36: FutureWarning: Conversion of the second argument of issubdtype from `float` to `np.floating` is deprecated. In future, it will be treated as `np.float64 == np.dtype(float).type`.\n",
      "  from ._conv import register_converters as _register_converters\n"
     ]
    }
   ],
   "source": [
    "import tensorflow as tf\n",
    "import numpy as np\n",
    "import matplotlib.pyplot as plt\n",
    "import pandas as pd\n",
    "import numba \n",
    "from sklearn.model_selection import train_test_split\n",
    "import random"
   ]
  },
  {
   "cell_type": "markdown",
   "metadata": {},
   "source": [
    "## 讀取資料"
   ]
  },
  {
   "cell_type": "code",
   "execution_count": 2,
   "metadata": {},
   "outputs": [
    {
     "name": "stdout",
     "output_type": "stream",
     "text": [
      "x.shape =  (365, 4752)\n",
      "y.shape =  (368, 4752)\n"
     ]
    }
   ],
   "source": [
    "x= pd.read_csv('pm25_hour_forecast_interpolate.csv', header = None, sep = ' ')\n",
    "y= pd.read_csv('pm25_hour_observe_interpolate.csv', header = None, sep = ' ')\n",
    "print(\"x.shape = \",x.shape)\n",
    "print(\"y.shape = \",y.shape)"
   ]
  },
  {
   "cell_type": "code",
   "execution_count": 3,
   "metadata": {},
   "outputs": [
    {
     "data": {
      "text/plain": [
       "(365, 4752)"
      ]
     },
     "execution_count": 3,
     "metadata": {},
     "output_type": "execute_result"
    }
   ],
   "source": [
    "x = np.array(x)\n",
    "y = np.array(y)\n",
    "y = y[3:,:]\n",
    "y.shape"
   ]
  },
  {
   "cell_type": "markdown",
   "metadata": {},
   "source": [
    "## regression model"
   ]
  },
  {
   "cell_type": "code",
   "execution_count": 4,
   "metadata": {},
   "outputs": [],
   "source": [
    "class regression:\n",
    "    def __init__(self,x,y, sd, lambda_alpha,lambda_b, training_epoch , lr = 0.001, model_select = 1 ):\n",
    "        #輸入值的初始化\n",
    "        n,p = x.shape\n",
    "        station = p/72\n",
    "        self.sd = sd \n",
    "        self.lr = lr\n",
    "        self.training_epoch = training_epoch\n",
    "        self.x = x #data\n",
    "        self.y = y #data\n",
    "        self.lambda_alpha = lambda_alpha\n",
    "        self.lambda_b = lambda_b\n",
    "        self.model_select = model_select\n",
    "        #變數的假設\n",
    "        X = tf.placeholder(tf.float32, shape = (None, p), name = 'phy')\n",
    "        Y = tf.placeholder(tf.float32, shape = (None, p), name = 'pre')\n",
    "        self.X = X\n",
    "        self.Y = Y\n",
    "\n",
    "        #if model ==1\n",
    "        #model_1\n",
    "\n",
    "        #變數的初始化\n",
    "\n",
    "        if self.model_select == 1:\n",
    "            alpha_1 = tf.Variable(sd * tf.random_uniform(shape = [1, p], dtype=tf.float32), name=\"alpha_1\", trainable=True)\n",
    "            b_1 =  tf.Variable(1., name=\"b_1\", trainable = True)\n",
    "            model_1 = tf.add(tf.multiply(b_1, self.X), alpha_1)\n",
    "            self.alpha = alpha_1\n",
    "            self.b = b_1\n",
    "            self.model = model_1\n",
    "        if self.model_select == 2:\n",
    "            alpha_2 = tf.Variable(sd * tf.random_uniform(shape = [1, p], dtype=tf.float32), name = \"alpha_2\", trainable = True)\n",
    "            b_2 = tf.Variable(tf.zeros([1, station], tf.float32), name = \"b_2\", trainable = True)\n",
    "            model_2 = tf.add( tf.multiply( tf.tile(b_2, multiples = [1,72]), self.X), alpha_2)\n",
    "            self.alpha = alpha_2\n",
    "            self.b = b_2\n",
    "            self.model = model_2\n",
    "        if self.model_select == 3:\n",
    "            alpha_3 = tf.Variable( sd * tf.random_uniform(shape = [1, p], dtype=tf.float32), name = \"alpha_3\", trainable = True)\n",
    "            b_3 = tf.Variable( tf.zeros([1, p], tf.float32), name = \"b_3\", trainable = True)\n",
    "            model_3 = tf.add( tf.multiply(b_3, self.X), alpha_3)\n",
    "            self.alpha = alpha_3\n",
    "            self.b = b_3\n",
    "            self.model = model_3\n",
    "        if self.model_select == 4:\n",
    "            alpha_4 = tf.Variable( sd * tf.random_uniform(shape = [1, p], dtype=tf.float32), name = \"alpha_4\", trainable = True)\n",
    "            b_4 = tf.Variable( tf.zeros([p, p], tf.float32), name = \"b_4\", trainable = True)\n",
    "            model_4 = tf.add( tf.matmul(b_4, tf.transpose(self.X)), alpha_4) #矩陣相乘\n",
    "            self.alpha = alpha_4\n",
    "            self.b = b_4\n",
    "            self.model = tf.transpose(model_4)\n",
    "        #model的初始化\n",
    "   \n",
    "        self.cost = tf.reduce_mean(tf.square(tf.subtract(self.Y, self.model))) + \\\n",
    "        self.lambda_alpha * (tf.reduce_sum(tf.square(self.alpha))) + \\\n",
    "        self.lambda_b * (tf.reduce_sum(tf.square(self.b)))\n",
    "        self.train_op = tf.train.AdamOptimizer(self.lr).minimize(self.cost)\n",
    "        \n",
    "        #切割data(train test)\n",
    "        self.x_train = self.x[:-31,:]\n",
    "        self.x_test  = self.x[-31:,:]\n",
    "        self.y_train = self.y[:-31,:]\n",
    "        self.y_test  = self.y[-31:,:]\n",
    "        \n",
    "        self.x_, self.x_vali, self.y_, self.y_vali = train_test_split(self.x_train, self.y_train,\n",
    "                                                                test_size = 0.3, random_state = 42)\n",
    "        \n",
    "\n",
    "    def train(self,select_hy):\n",
    "        if select_hy==1: #驗證超參數\n",
    "            xs = self.x_vali \n",
    "            ys = self.y_vali             \n",
    "        if select_hy==0: #訓練模型\n",
    "            xs = self.x_ \n",
    "            ys = self.y_ \n",
    "            \n",
    "        sess = tf.Session()\n",
    "        init = tf.global_variables_initializer()\n",
    "        sess.run(init)\n",
    "\n",
    "        prev_err = 0\n",
    "        costs_train = np.zeros((1,self.training_epoch))\n",
    "        costs_test = np.zeros((1,self.training_epoch))\n",
    "\n",
    "        for epoch in range(self.training_epoch):\n",
    "            err, _ = sess.run([self.cost, self.train_op], feed_dict = {self.X: xs, self.Y: ys})\n",
    "            if  select_hy ==0: #利用test確認有無overfitting\n",
    "                cost_test = sess.run(self.cost, feed_dict ={self.X: self.x_vali, self.Y: self.y_vali})\n",
    "                costs_test[0][epoch] = cost_test\n",
    "            costs_train[0][epoch] = err\n",
    "           \n",
    "            '''''\n",
    "            if epoch % 100 == 0:\n",
    "                print(epoch, err)\n",
    "               '''''\n",
    "            if abs(prev_err - err) < 1e-10:\n",
    "                break\n",
    "            prev_err = err\n",
    "         \n",
    "        alpha_val= sess.run(self.alpha)\n",
    "        self.alpha_val  = alpha_val\n",
    "        b_val = sess.run(self.b)  \n",
    "        self.b_val  = b_val\n",
    "    \n",
    "        \n",
    "        return  costs_train[costs_train!= 0], costs_test[costs_test!=0]\n",
    "\n",
    "    def test(self, test_or_not = None):\n",
    "        if self.model_select==1 or self.model_select==3 :\n",
    "            y_hat = np.add(np.multiply(self.b_val, self.x_test), self.alpha_val)\n",
    "\n",
    "        if self.model_select==2:\n",
    "            y_hat = np.add( np.multiply( np.tile(self.b_val, reps = (1,72) ), self.x_test), self.alpha_val)\n",
    "        \n",
    "        if self.model_select==4:\n",
    "            y_hat = np.add(np.dot(self.b_val, self.x_test.T), self.alpha_val).T\n",
    "            \n",
    "        if test_or_not:\n",
    "            loss = np.mean(abs(self.y_test-y_hat))\n",
    "        else:\n",
    "            loss = np.mean( (self.y_test-y_hat)**2 ) + \\\n",
    "                    self.lambda_alpha * ( np.sum(self.alpha_val**2) ) + \\\n",
    "                    self.lambda_b * ( np.sum(self.b_val**2) )            \n",
    "        \n",
    "        return loss\n",
    "    \n",
    "    def original_loss(self):\n",
    "        loss_original = np.mean(abs(self.x_test - self.y_test)) \n",
    "        \n",
    "        return loss_original"
   ]
  },
  {
   "cell_type": "markdown",
   "metadata": {},
   "source": [
    "## 最佳化\n",
    "### 利用MSE找出最佳的初始值"
   ]
  },
  {
   "cell_type": "code",
   "execution_count": 19,
   "metadata": {},
   "outputs": [],
   "source": [
    "def best_model_for_alpha_b(c_alpha,c_b,model):#逞罰項係數 dropout rate\n",
    "    n_alpha = len(c_alpha)\n",
    "    n_b = len(c_b)\n",
    "    cost_vali = np.zeros((n_alpha * n_b,3)) \n",
    "    \n",
    "    num = 0\n",
    "    aa,bb = np.meshgrid(c_alpha,c_b,indexing='ij')\n",
    "    for i in zip(aa.flat, bb.flat): \n",
    "        cost_vali[num][:2] = np.array(i)\n",
    "        re = regression(x,y , sd = 0.5,lambda_alpha = np.array(i)[0], lambda_b = np.array(i)[1],\\\n",
    "                        training_epoch = 10000, lr = 0.01, model_select = model)\n",
    "        err = re.train(select_hy = 1)[0][-1]\n",
    "        cost_vali[num][2] = err\n",
    "        #print('iter',num)\n",
    "        num = num+1\n",
    "    \n",
    "    cost_vali = cost_vali[cost_vali[:,2].argsort()]\n",
    "    \n",
    "    print(cost_vali)\n",
    "    print(cost_vali[:4,:])\n",
    "    \n",
    "    return cost_vali[:4,:]"
   ]
  },
  {
   "cell_type": "markdown",
   "metadata": {},
   "source": [
    "## model 1"
   ]
  },
  {
   "cell_type": "markdown",
   "metadata": {},
   "source": [
    "### 第一次逞罰項最佳化"
   ]
  },
  {
   "cell_type": "markdown",
   "metadata": {},
   "source": [
    "c_alpha = $10^{-5}$ ~ $10^{5} $ ;\n",
    "c_b = 0"
   ]
  },
  {
   "cell_type": "code",
   "execution_count": 20,
   "metadata": {},
   "outputs": [
    {
     "name": "stdout",
     "output_type": "stream",
     "text": [
      "[[9.99999975e-06 0.00000000e+00 2.00243835e+02]\n",
      " [9.99999975e-05 0.00000000e+00 3.35076233e+02]\n",
      " [1.00000005e-03 0.00000000e+00 5.30442078e+02]\n",
      " [9.99999978e-03 0.00000000e+00 5.81172913e+02]\n",
      " [1.00000001e-01 0.00000000e+00 5.87095215e+02]\n",
      " [1.00000000e+00 0.00000000e+00 5.87687927e+02]\n",
      " [1.00000000e+01 0.00000000e+00 5.87748718e+02]\n",
      " [1.00000000e+02 0.00000000e+00 5.87754333e+02]\n",
      " [1.00000000e+05 0.00000000e+00 5.87755005e+02]\n",
      " [1.00000000e+04 0.00000000e+00 5.87755371e+02]\n",
      " [1.00000000e+03 0.00000000e+00 5.87755493e+02]]\n",
      "[[9.99999975e-06 0.00000000e+00 2.00243835e+02]\n",
      " [9.99999975e-05 0.00000000e+00 3.35076233e+02]\n",
      " [1.00000005e-03 0.00000000e+00 5.30442078e+02]\n",
      " [9.99999978e-03 0.00000000e+00 5.81172913e+02]]\n"
     ]
    },
    {
     "data": {
      "text/plain": [
       "array([[9.99999975e-06, 0.00000000e+00, 2.00243835e+02],\n",
       "       [9.99999975e-05, 0.00000000e+00, 3.35076233e+02],\n",
       "       [1.00000005e-03, 0.00000000e+00, 5.30442078e+02],\n",
       "       [9.99999978e-03, 0.00000000e+00, 5.81172913e+02]])"
      ]
     },
     "execution_count": 20,
     "metadata": {},
     "output_type": "execute_result"
    }
   ],
   "source": [
    "c_alpha = (10. ** (np.arange(11)-5)).astype(np.float32)\n",
    "c_b = np.array([0])\n",
    "best_model_for_alpha_b(c_alpha,c_b,1)"
   ]
  },
  {
   "cell_type": "markdown",
   "metadata": {},
   "source": [
    "### 第二次逞罰項最佳化"
   ]
  },
  {
   "cell_type": "code",
   "execution_count": 23,
   "metadata": {},
   "outputs": [
    {
     "name": "stdout",
     "output_type": "stream",
     "text": [
      "[[9.99999997e-07 0.00000000e+00 1.78091629e+02]\n",
      " [1.99999999e-06 0.00000000e+00 1.80678375e+02]\n",
      " [3.00000011e-06 0.00000000e+00 1.83236481e+02]\n",
      " [3.99999999e-06 0.00000000e+00 1.85759949e+02]\n",
      " [4.99999987e-06 0.00000000e+00 1.88252899e+02]\n",
      " [6.00000021e-06 0.00000000e+00 1.90709518e+02]\n",
      " [7.00000010e-06 0.00000000e+00 1.93136780e+02]\n",
      " [7.99999998e-06 0.00000000e+00 1.95535675e+02]\n",
      " [9.00000032e-06 0.00000000e+00 1.97901794e+02]\n",
      " [9.99999975e-06 0.00000000e+00 2.00242233e+02]]\n",
      "[[9.99999997e-07 0.00000000e+00 1.78091629e+02]\n",
      " [1.99999999e-06 0.00000000e+00 1.80678375e+02]\n",
      " [3.00000011e-06 0.00000000e+00 1.83236481e+02]\n",
      " [3.99999999e-06 0.00000000e+00 1.85759949e+02]]\n",
      "[[9.99999997e-07 0.00000000e+00 1.78091629e+02]\n",
      " [1.99999999e-06 0.00000000e+00 1.80678375e+02]\n",
      " [3.00000011e-06 0.00000000e+00 1.83236481e+02]\n",
      " [3.99999999e-06 0.00000000e+00 1.85759949e+02]]\n"
     ]
    }
   ],
   "source": [
    "c_alpha = (np.linspace(1e-6, 1e-5,10)).astype(np.float32)\n",
    "c_b = np.array([0])\n",
    "best_2 = best_model_for_alpha_b(c_alpha,c_b,1)\n",
    "print(best_2)"
   ]
  },
  {
   "cell_type": "code",
   "execution_count": 24,
   "metadata": {},
   "outputs": [],
   "source": [
    "min_alpha = best_2[0,0]\n",
    "min_b = best_2[0,1]"
   ]
  },
  {
   "cell_type": "markdown",
   "metadata": {},
   "source": [
    "## 超參數代入training的值計算"
   ]
  },
  {
   "cell_type": "code",
   "execution_count": 51,
   "metadata": {},
   "outputs": [],
   "source": [
    "re_1=regression(x,y , sd = 0.5,lambda_alpha = min_alpha, lambda_b = min_b,\\\n",
    "                        training_epoch = 50000, lr = 0.01, model_select = 1)\n",
    "train = re_1.train(select_hy = 0)\n",
    "#print('train_cost = ',train[0])\n",
    "#print('test_cost = ',test[0])"
   ]
  },
  {
   "cell_type": "markdown",
   "metadata": {},
   "source": [
    "## 比較train V.S test之間是否overfitting"
   ]
  },
  {
   "cell_type": "code",
   "execution_count": 52,
   "metadata": {},
   "outputs": [
    {
     "data": {
      "text/plain": [
       "<matplotlib.legend.Legend at 0x237739a3c88>"
      ]
     },
     "execution_count": 52,
     "metadata": {},
     "output_type": "execute_result"
    },
    {
     "data": {
      "image/png": "[encoded data removed]",
      "text/plain": [
       "<Figure size 432x288 with 1 Axes>"
      ]
     },
     "metadata": {},
     "output_type": "display_data"
    }
   ],
   "source": [
    "plt.plot(train[0],label = 'train')\n",
    "plt.plot(train[1],label = 'test')\n",
    "plt.legend()"
   ]
  },
  {
   "cell_type": "markdown",
   "metadata": {},
   "source": [
    "## 比較與物理模型之間的差異(全部樣本)"
   ]
  },
  {
   "cell_type": "markdown",
   "metadata": {},
   "source": [
    "#### 物理模型"
   ]
  },
  {
   "cell_type": "code",
   "execution_count": 53,
   "metadata": {},
   "outputs": [
    {
     "data": {
      "text/plain": [
       "21.087475797785913"
      ]
     },
     "execution_count": 53,
     "metadata": {},
     "output_type": "execute_result"
    }
   ],
   "source": [
    "re_1.original_loss()"
   ]
  },
  {
   "cell_type": "markdown",
   "metadata": {},
   "source": [
    "#### model_1"
   ]
  },
  {
   "cell_type": "code",
   "execution_count": 54,
   "metadata": {},
   "outputs": [
    {
     "data": {
      "text/plain": [
       "11.56940345576666"
      ]
     },
     "execution_count": 54,
     "metadata": {},
     "output_type": "execute_result"
    }
   ],
   "source": [
    "re_1.test(test_or_not=1)"
   ]
  },
  {
   "cell_type": "markdown",
   "metadata": {},
   "source": [
    "## model_2\n"
   ]
  },
  {
   "cell_type": "code",
   "execution_count": 57,
   "metadata": {},
   "outputs": [
    {
     "name": "stdout",
     "output_type": "stream",
     "text": [
      "[[9.99999975e-06 9.99999975e-06 1.97097260e+02]\n",
      " [9.99999975e-06 9.99999975e-05 1.97098328e+02]\n",
      " [9.99999975e-06 1.00000005e-03 1.97102356e+02]\n",
      " [9.99999975e-06 9.99999978e-03 1.97132584e+02]\n",
      " [9.99999975e-06 1.00000001e-01 1.97443741e+02]\n",
      " [9.99999975e-06 1.00000000e+00 1.99644318e+02]\n",
      " [9.99999975e-06 1.00000000e+01 2.04891891e+02]\n",
      " [9.99999975e-06 1.00000000e+02 2.07392273e+02]\n",
      " [9.99999975e-06 1.00000000e+03 2.07703491e+02]\n",
      " [9.99999975e-06 1.00000000e+04 2.07766296e+02]\n",
      " [9.99999975e-06 1.00000000e+05 2.08422546e+02]\n",
      " [9.99999975e-05 9.99999975e-05 3.20663940e+02]\n",
      " [9.99999975e-05 9.99999975e-06 3.20664612e+02]\n",
      " [9.99999975e-05 1.00000005e-03 3.20681580e+02]\n",
      " [9.99999975e-05 9.99999978e-03 3.20845947e+02]\n",
      " [9.99999975e-05 1.00000001e-01 3.22349762e+02]\n",
      " [9.99999975e-05 1.00000000e+00 3.33344421e+02]\n",
      " [9.99999975e-05 1.00000000e+01 3.61948151e+02]\n",
      " [9.99999975e-05 1.00000000e+02 3.76482758e+02]\n",
      " [9.99999975e-05 1.00000000e+04 3.78864471e+02]\n",
      " [9.99999975e-05 1.00000000e+05 3.79369659e+02]\n",
      " [9.99999975e-05 1.00000000e+03 3.79957214e+02]\n",
      " [1.00000005e-03 9.99999975e-06 4.86156189e+02]\n",
      " [1.00000005e-03 9.99999975e-05 4.86157623e+02]\n",
      " [1.00000005e-03 1.00000005e-03 4.86203949e+02]\n",
      " [1.00000005e-03 9.99999978e-03 4.86646729e+02]\n",
      " [1.00000005e-03 1.00000001e-01 4.90935028e+02]\n",
      " [1.00000005e-03 1.00000000e+00 5.23643311e+02]\n",
      " [9.99999978e-03 9.99999975e-06 5.26843262e+02]\n",
      " [9.99999978e-03 9.99999975e-05 5.26848816e+02]\n",
      " [9.99999978e-03 1.00000005e-03 5.26901978e+02]\n",
      " [9.99999978e-03 9.99999978e-03 5.27432190e+02]\n",
      " [1.00000001e-01 9.99999975e-06 5.31533752e+02]\n",
      " [1.00000001e-01 9.99999975e-05 5.31539124e+02]\n",
      " [1.00000001e-01 1.00000005e-03 5.31594421e+02]\n",
      " [1.00000000e+00 9.99999975e-06 5.32009766e+02]\n",
      " [1.00000000e+00 9.99999975e-05 5.32015198e+02]\n",
      " [1.00000000e+01 9.99999975e-06 5.32057434e+02]\n",
      " [1.00000000e+02 9.99999975e-06 5.32062378e+02]\n",
      " [1.00000000e+03 9.99999975e-06 5.32062500e+02]\n",
      " [1.00000000e+05 9.99999975e-06 5.32062866e+02]\n",
      " [1.00000000e+04 9.99999975e-06 5.32062866e+02]\n",
      " [1.00000000e+01 9.99999975e-05 5.32062927e+02]\n",
      " [1.00000000e+02 9.99999975e-05 5.32067871e+02]\n",
      " [1.00000000e+05 9.99999975e-05 5.32068054e+02]\n",
      " [1.00000000e+03 9.99999975e-05 5.32068115e+02]\n",
      " [1.00000000e+04 9.99999975e-05 5.32068298e+02]\n",
      " [1.00000000e+00 1.00000005e-03 5.32070618e+02]\n",
      " [1.00000000e+01 1.00000005e-03 5.32117615e+02]\n",
      " [1.00000000e+05 1.00000005e-03 5.32122742e+02]\n",
      " [1.00000000e+02 1.00000005e-03 5.32123047e+02]\n",
      " [1.00000000e+03 1.00000005e-03 5.32123901e+02]\n",
      " [1.00000000e+04 1.00000005e-03 5.32123901e+02]\n",
      " [1.00000001e-01 9.99999978e-03 5.32134155e+02]\n",
      " [9.99999978e-03 1.00000001e-01 5.32557739e+02]\n",
      " [1.00000000e+00 9.99999978e-03 5.32611633e+02]\n",
      " [1.00000000e+01 9.99999978e-03 5.32660156e+02]\n",
      " [1.00000000e+02 9.99999978e-03 5.32664124e+02]\n",
      " [1.00000000e+05 9.99999978e-03 5.32664490e+02]\n",
      " [1.00000000e+03 9.99999978e-03 5.32664551e+02]\n",
      " [1.00000000e+04 9.99999978e-03 5.32664856e+02]\n",
      " [1.00000001e-01 1.00000001e-01 5.37359436e+02]\n",
      " [1.00000000e+00 1.00000001e-01 5.37846313e+02]\n",
      " [1.00000000e+01 1.00000001e-01 5.37896240e+02]\n",
      " [1.00000000e+03 1.00000001e-01 5.37900879e+02]\n",
      " [1.00000000e+02 1.00000001e-01 5.37900940e+02]\n",
      " [1.00000000e+05 1.00000001e-01 5.37900940e+02]\n",
      " [1.00000000e+04 1.00000001e-01 5.37901550e+02]\n",
      " [9.99999978e-03 1.00000000e+00 5.72071289e+02]\n",
      " [1.00000001e-01 1.00000000e+00 5.77688538e+02]\n",
      " [1.00000000e+00 1.00000000e+00 5.78259216e+02]\n",
      " [1.00000000e+01 1.00000000e+00 5.78316589e+02]\n",
      " [1.00000000e+02 1.00000000e+00 5.78322571e+02]\n",
      " [1.00000000e+05 1.00000000e+00 5.78322693e+02]\n",
      " [1.00000000e+03 1.00000000e+00 5.78323120e+02]\n",
      " [1.00000000e+04 1.00000000e+00 5.78323181e+02]\n",
      " [1.00000005e-03 1.00000000e+01 6.21398865e+02]\n",
      " [1.00000005e-03 1.00000000e+02 6.79947021e+02]\n",
      " [1.00000005e-03 1.00000000e+03 6.89453613e+02]\n",
      " [1.00000005e-03 1.00000000e+04 6.90486694e+02]\n",
      " [1.00000005e-03 1.00000000e+05 6.90581848e+02]\n",
      " [9.99999978e-03 1.00000000e+01 6.94445618e+02]\n",
      " [1.00000001e-01 1.00000000e+01 7.03104919e+02]\n",
      " [1.00000000e+00 1.00000000e+01 7.03986572e+02]\n",
      " [1.00000000e+01 1.00000000e+01 7.04075867e+02]\n",
      " [1.00000000e+02 1.00000000e+01 7.04083557e+02]\n",
      " [1.00000000e+03 1.00000000e+01 7.04084717e+02]\n",
      " [1.00000000e+04 1.00000000e+01 7.04085022e+02]\n",
      " [1.00000000e+05 1.00000000e+01 7.04085327e+02]\n",
      " [9.99999978e-03 1.00000000e+02 7.71082764e+02]\n",
      " [1.00000001e-01 1.00000000e+02 7.82058899e+02]\n",
      " [1.00000000e+00 1.00000000e+02 7.83178528e+02]\n",
      " [1.00000000e+01 1.00000000e+02 7.83292480e+02]\n",
      " [1.00000000e+02 1.00000000e+02 7.83302612e+02]\n",
      " [1.00000000e+04 1.00000000e+02 7.83303467e+02]\n",
      " [1.00000000e+05 1.00000000e+02 7.83303711e+02]\n",
      " [1.00000000e+03 1.00000000e+02 7.83303772e+02]\n",
      " [9.99999978e-03 1.00000000e+03 7.83837463e+02]\n",
      " [9.99999978e-03 1.00000000e+04 7.85206360e+02]\n",
      " [9.99999978e-03 1.00000000e+05 7.85343140e+02]\n",
      " [1.00000001e-01 1.00000000e+03 7.95233459e+02]\n",
      " [1.00000000e+00 1.00000000e+03 7.96396729e+02]\n",
      " [1.00000000e+01 1.00000000e+03 7.96513977e+02]\n",
      " [1.00000000e+02 1.00000000e+03 7.96524597e+02]\n",
      " [1.00000000e+04 1.00000000e+03 7.96526062e+02]\n",
      " [1.00000000e+05 1.00000000e+03 7.96526489e+02]\n",
      " [1.00000000e+03 1.00000000e+03 7.96526733e+02]\n",
      " [1.00000001e-01 1.00000000e+04 7.96654541e+02]\n",
      " [1.00000001e-01 1.00000000e+05 7.96790955e+02]\n",
      " [1.00000000e+00 1.00000000e+04 7.97816711e+02]\n",
      " [1.00000000e+01 1.00000000e+04 7.97934631e+02]\n",
      " [1.00000000e+02 1.00000000e+04 7.97946167e+02]\n",
      " [1.00000000e+05 1.00000000e+04 7.97947021e+02]\n",
      " [1.00000000e+04 1.00000000e+04 7.97947144e+02]\n",
      " [1.00000000e+03 1.00000000e+04 7.97947388e+02]\n",
      " [1.00000000e+00 1.00000000e+05 7.97959595e+02]\n",
      " [1.00000000e+01 1.00000000e+05 7.98079834e+02]\n",
      " [1.00000000e+02 1.00000000e+05 7.98088745e+02]\n",
      " [1.00000000e+03 1.00000000e+05 7.98089905e+02]\n",
      " [1.00000000e+04 1.00000000e+05 7.98090088e+02]\n",
      " [1.00000000e+05 1.00000000e+05 7.98090515e+02]]\n",
      "[[9.99999975e-06 9.99999975e-06 1.97097260e+02]\n",
      " [9.99999975e-06 9.99999975e-05 1.97098328e+02]\n",
      " [9.99999975e-06 1.00000005e-03 1.97102356e+02]\n",
      " [9.99999975e-06 9.99999978e-03 1.97132584e+02]]\n"
     ]
    },
    {
     "data": {
      "text/plain": [
       "array([[9.99999975e-06, 9.99999975e-06, 1.97097260e+02],\n",
       "       [9.99999975e-06, 9.99999975e-05, 1.97098328e+02],\n",
       "       [9.99999975e-06, 1.00000005e-03, 1.97102356e+02],\n",
       "       [9.99999975e-06, 9.99999978e-03, 1.97132584e+02]])"
      ]
     },
     "execution_count": 57,
     "metadata": {},
     "output_type": "execute_result"
    }
   ],
   "source": [
    "c_alpha = (10. ** (np.arange(11)-5)).astype(np.float32)\n",
    "c_b = (10. ** (np.arange(11)-5)).astype(np.float32)\n",
    "best_model_for_alpha_b(c_alpha,c_b,2)"
   ]
  },
  {
   "cell_type": "markdown",
   "metadata": {},
   "source": [
    "### 第二次最佳化"
   ]
  },
  {
   "cell_type": "code",
   "execution_count": 58,
   "metadata": {},
   "outputs": [
    {
     "name": "stdout",
     "output_type": "stream",
     "text": [
      "[[1.00000000e-05 2.22999995e-04 1.97097641e+02]\n",
      " [1.00000000e-05 9.99999997e-07 1.97099167e+02]\n",
      " [1.00000000e-05 5.55999984e-04 1.97099731e+02]\n",
      " [1.00000000e-05 7.77999987e-04 1.97099899e+02]\n",
      " [1.00000000e-05 6.67000015e-04 1.97100235e+02]\n",
      " [1.00000000e-05 1.00000005e-03 1.97100250e+02]\n",
      " [1.00000000e-05 3.34000011e-04 1.97100815e+02]\n",
      " [1.00000000e-05 4.45000012e-04 1.97102051e+02]\n",
      " [1.00000000e-05 8.89000017e-04 1.97102737e+02]\n",
      " [1.00000000e-05 1.12000002e-04 1.97102890e+02]]\n",
      "[[1.00000000e-05 2.22999995e-04 1.97097641e+02]\n",
      " [1.00000000e-05 9.99999997e-07 1.97099167e+02]\n",
      " [1.00000000e-05 5.55999984e-04 1.97099731e+02]\n",
      " [1.00000000e-05 7.77999987e-04 1.97099899e+02]]\n",
      "[[1.00000000e-05 2.22999995e-04 1.97097641e+02]\n",
      " [1.00000000e-05 9.99999997e-07 1.97099167e+02]\n",
      " [1.00000000e-05 5.55999984e-04 1.97099731e+02]\n",
      " [1.00000000e-05 7.77999987e-04 1.97099899e+02]]\n"
     ]
    }
   ],
   "source": [
    "c_alpha = np.array([1e-5])\n",
    "c_b = (np.linspace(1e-6, 1e-3,10)).astype(np.float32)\n",
    "best_2 = best_model_for_alpha_b(c_alpha,c_b,2)\n",
    "print(best_2)"
   ]
  },
  {
   "cell_type": "code",
   "execution_count": 59,
   "metadata": {},
   "outputs": [],
   "source": [
    "min_alpha = best_2[0,0]\n",
    "min_b = best_2[0,1]"
   ]
  },
  {
   "cell_type": "markdown",
   "metadata": {},
   "source": [
    "## 比較train V.S test之間是否overfitting"
   ]
  },
  {
   "cell_type": "code",
   "execution_count": 60,
   "metadata": {},
   "outputs": [],
   "source": [
    "re_2=regression(x,y , sd = 0.5,lambda_alpha = min_alpha, lambda_b = min_b,\\\n",
    "                        training_epoch = 50000, lr = 0.01, model_select = 2)\n",
    "train = re_2.train(select_hy = 0)\n",
    "#print('train_cost = ',train[0])\n",
    "#print('test_cost = ',test[0])"
   ]
  },
  {
   "cell_type": "code",
   "execution_count": 61,
   "metadata": {},
   "outputs": [
    {
     "data": {
      "text/plain": [
       "<matplotlib.legend.Legend at 0x2379dfff438>"
      ]
     },
     "execution_count": 61,
     "metadata": {},
     "output_type": "execute_result"
    },
    {
     "data": {
      "image/png": "[encoded data removed]",
      "text/plain": [
       "<Figure size 432x288 with 1 Axes>"
      ]
     },
     "metadata": {},
     "output_type": "display_data"
    }
   ],
   "source": [
    "plt.plot(train[0],label = 'train')\n",
    "plt.plot(train[1],label = 'test')\n",
    "plt.legend()"
   ]
  },
  {
   "cell_type": "markdown",
   "metadata": {},
   "source": [
    "## 比較與物理模型之間的差異(全部樣本)"
   ]
  },
  {
   "cell_type": "code",
   "execution_count": 62,
   "metadata": {},
   "outputs": [
    {
     "data": {
      "text/plain": [
       "21.087475797785913"
      ]
     },
     "execution_count": 62,
     "metadata": {},
     "output_type": "execute_result"
    }
   ],
   "source": [
    "re_2.original_loss()"
   ]
  },
  {
   "cell_type": "code",
   "execution_count": 63,
   "metadata": {},
   "outputs": [
    {
     "data": {
      "text/plain": [
       "11.6124103984825"
      ]
     },
     "execution_count": 63,
     "metadata": {},
     "output_type": "execute_result"
    }
   ],
   "source": [
    "re_2.test(test_or_not = 1)"
   ]
  },
  {
   "cell_type": "markdown",
   "metadata": {},
   "source": [
    "## model_3"
   ]
  },
  {
   "cell_type": "markdown",
   "metadata": {},
   "source": [
    "### 第一次逞罰項最佳化"
   ]
  },
  {
   "cell_type": "code",
   "execution_count": 64,
   "metadata": {},
   "outputs": [
    {
     "name": "stdout",
     "output_type": "stream",
     "text": [
      "[[9.99999975e-06 9.99999975e-06 1.94002563e+02]\n",
      " [9.99999975e-06 9.99999975e-05 1.94048126e+02]\n",
      " [9.99999975e-06 1.00000005e-03 1.94483734e+02]\n",
      " [9.99999975e-06 9.99999978e-03 1.97206085e+02]\n",
      " [9.99999975e-06 1.00000001e-01 2.03470871e+02]\n",
      " [9.99999975e-06 1.00000000e+00 2.07020660e+02]\n",
      " [9.99999975e-06 1.00000000e+01 2.07877029e+02]\n",
      " [9.99999975e-06 1.00000000e+02 2.08131485e+02]\n",
      " [9.99999975e-06 1.00000000e+04 2.11024597e+02]\n",
      " [9.99999975e-06 1.00000000e+03 2.34595825e+02]\n",
      " [9.99999975e-06 1.00000000e+05 2.40361389e+02]\n",
      " [9.99999975e-05 9.99999975e-06 3.10526672e+02]\n",
      " [9.99999975e-05 9.99999975e-05 3.10752167e+02]\n",
      " [9.99999975e-05 1.00000005e-03 3.12789978e+02]\n",
      " [9.99999975e-05 9.99999978e-03 3.25757294e+02]\n",
      " [9.99999975e-05 1.00000001e-01 3.56947021e+02]\n",
      " [9.99999975e-05 1.00000000e+00 3.75238220e+02]\n",
      " [9.99999975e-05 1.00000000e+01 3.78567047e+02]\n",
      " [9.99999975e-05 1.00000000e+03 3.79414948e+02]\n",
      " [9.99999975e-05 1.00000000e+02 3.79815277e+02]\n",
      " [9.99999975e-05 1.00000000e+04 3.80961639e+02]\n",
      " [9.99999975e-05 1.00000000e+05 4.16876343e+02]\n",
      " [1.00000005e-03 9.99999975e-06 4.54359985e+02]\n",
      " [1.00000005e-03 9.99999975e-05 4.54978333e+02]\n",
      " [1.00000005e-03 1.00000005e-03 4.60691833e+02]\n",
      " [9.99999978e-03 9.99999975e-06 4.87373016e+02]\n",
      " [9.99999978e-03 9.99999975e-05 4.88104492e+02]\n",
      " [1.00000001e-01 9.99999975e-06 4.91110413e+02]\n",
      " [1.00000000e+00 9.99999975e-06 4.91488983e+02]\n",
      " [1.00000000e+01 9.99999975e-06 4.91528900e+02]\n",
      " [1.00000000e+03 9.99999975e-06 4.91531830e+02]\n",
      " [1.00000000e+02 9.99999975e-06 4.91532013e+02]\n",
      " [1.00000000e+05 9.99999975e-06 4.91532227e+02]\n",
      " [1.00000000e+04 9.99999975e-06 4.91532684e+02]\n",
      " [1.00000001e-01 9.99999975e-05 4.91857635e+02]\n",
      " [1.00000000e+00 9.99999975e-05 4.92238098e+02]\n",
      " [1.00000000e+01 9.99999975e-05 4.92275909e+02]\n",
      " [1.00000000e+05 9.99999975e-05 4.92280457e+02]\n",
      " [1.00000000e+02 9.99999975e-05 4.92281433e+02]\n",
      " [1.00000000e+03 9.99999975e-05 4.92281891e+02]\n",
      " [1.00000000e+04 9.99999975e-05 4.92282379e+02]\n",
      " [9.99999978e-03 1.00000005e-03 4.94904510e+02]\n",
      " [1.00000001e-01 1.00000005e-03 4.98786957e+02]\n",
      " [1.00000005e-03 9.99999978e-03 4.99107727e+02]\n",
      " [1.00000000e+00 1.00000005e-03 4.99179321e+02]\n",
      " [1.00000000e+01 1.00000005e-03 4.99219666e+02]\n",
      " [1.00000000e+02 1.00000005e-03 4.99222656e+02]\n",
      " [1.00000000e+05 1.00000005e-03 4.99223663e+02]\n",
      " [1.00000000e+04 1.00000005e-03 4.99224152e+02]\n",
      " [1.00000000e+03 1.00000005e-03 4.99224976e+02]\n",
      " [9.99999978e-03 9.99999978e-03 5.41284241e+02]\n",
      " [1.00000001e-01 9.99999978e-03 5.46120911e+02]\n",
      " [1.00000000e+00 9.99999978e-03 5.46612183e+02]\n",
      " [1.00000000e+01 9.99999978e-03 5.46659790e+02]\n",
      " [1.00000000e+02 9.99999978e-03 5.46665039e+02]\n",
      " [1.00000000e+03 9.99999978e-03 5.46665955e+02]\n",
      " [1.00000000e+04 9.99999978e-03 5.46666138e+02]\n",
      " [1.00000000e+05 9.99999978e-03 5.46666321e+02]\n",
      " [1.00000005e-03 1.00000001e-01 6.04112305e+02]\n",
      " [9.99999978e-03 1.00000001e-01 6.72406006e+02]\n",
      " [1.00000005e-03 1.00000000e+00 6.75195923e+02]\n",
      " [1.00000001e-01 1.00000001e-01 6.80465088e+02]\n",
      " [1.00000000e+00 1.00000001e-01 6.81285706e+02]\n",
      " [1.00000000e+01 1.00000001e-01 6.81367615e+02]\n",
      " [1.00000000e+02 1.00000001e-01 6.81375732e+02]\n",
      " [1.00000000e+05 1.00000001e-01 6.81376465e+02]\n",
      " [1.00000000e+04 1.00000001e-01 6.81376831e+02]\n",
      " [1.00000000e+03 1.00000001e-01 6.81377014e+02]\n",
      " [1.00000005e-03 1.00000000e+01 6.88896118e+02]\n",
      " [1.00000005e-03 1.00000000e+02 6.90422546e+02]\n",
      " [1.00000005e-03 1.00000000e+03 6.90574158e+02]\n",
      " [1.00000005e-03 1.00000000e+04 6.90590698e+02]\n",
      " [1.00000005e-03 1.00000000e+05 6.90591797e+02]\n",
      " [9.99999978e-03 1.00000000e+00 7.64816040e+02]\n",
      " [1.00000001e-01 1.00000000e+00 7.75594482e+02]\n",
      " [1.00000000e+00 1.00000000e+00 7.76694275e+02]\n",
      " [1.00000000e+01 1.00000000e+00 7.76804626e+02]\n",
      " [1.00000000e+02 1.00000000e+00 7.76815308e+02]\n",
      " [1.00000000e+04 1.00000000e+00 7.76816345e+02]\n",
      " [1.00000000e+05 1.00000000e+00 7.76816650e+02]\n",
      " [1.00000000e+03 1.00000000e+00 7.76816772e+02]\n",
      " [9.99999978e-03 1.00000000e+01 7.83064941e+02]\n",
      " [9.99999978e-03 1.00000000e+02 7.85126648e+02]\n",
      " [9.99999978e-03 1.00000000e+03 7.85335327e+02]\n",
      " [9.99999978e-03 1.00000000e+04 7.85356201e+02]\n",
      " [9.99999978e-03 1.00000000e+05 7.85362183e+02]\n",
      " [1.00000001e-01 1.00000000e+01 7.94436401e+02]\n",
      " [1.00000000e+00 1.00000000e+01 7.95597473e+02]\n",
      " [1.00000000e+01 1.00000000e+01 7.95713562e+02]\n",
      " [1.00000000e+02 1.00000000e+01 7.95724915e+02]\n",
      " [1.00000000e+03 1.00000000e+01 7.95726379e+02]\n",
      " [1.00000000e+05 1.00000000e+01 7.95726440e+02]\n",
      " [1.00000000e+04 1.00000000e+01 7.95726562e+02]\n",
      " [1.00000001e-01 1.00000000e+02 7.96575012e+02]\n",
      " [1.00000001e-01 1.00000000e+03 7.96782776e+02]\n",
      " [1.00000001e-01 1.00000000e+04 7.96804321e+02]\n",
      " [1.00000001e-01 1.00000000e+05 7.96806519e+02]\n",
      " [1.00000000e+00 1.00000000e+02 7.97735413e+02]\n",
      " [1.00000000e+01 1.00000000e+02 7.97853088e+02]\n",
      " [1.00000000e+02 1.00000000e+02 7.97863464e+02]\n",
      " [1.00000000e+04 1.00000000e+02 7.97864868e+02]\n",
      " [1.00000000e+05 1.00000000e+02 7.97865051e+02]\n",
      " [1.00000000e+03 1.00000000e+02 7.97865112e+02]\n",
      " [1.00000000e+00 1.00000000e+03 7.97951660e+02]\n",
      " [1.00000000e+00 1.00000000e+04 7.97973389e+02]\n",
      " [1.00000000e+00 1.00000000e+05 7.97975281e+02]\n",
      " [1.00000000e+01 1.00000000e+03 7.98070557e+02]\n",
      " [1.00000000e+02 1.00000000e+03 7.98080505e+02]\n",
      " [1.00000000e+03 1.00000000e+03 7.98081909e+02]\n",
      " [1.00000000e+04 1.00000000e+03 7.98082031e+02]\n",
      " [1.00000000e+05 1.00000000e+03 7.98082092e+02]\n",
      " [1.00000000e+01 1.00000000e+04 7.98091492e+02]\n",
      " [1.00000000e+01 1.00000000e+05 7.98101624e+02]\n",
      " [1.00000000e+02 1.00000000e+04 7.98102600e+02]\n",
      " [1.00000000e+03 1.00000000e+04 7.98103943e+02]\n",
      " [1.00000000e+04 1.00000000e+04 7.98103943e+02]\n",
      " [1.00000000e+05 1.00000000e+04 7.98104004e+02]\n",
      " [1.00000000e+02 1.00000000e+05 7.98104797e+02]\n",
      " [1.00000000e+03 1.00000000e+05 7.98106018e+02]\n",
      " [1.00000000e+04 1.00000000e+05 7.98106201e+02]\n",
      " [1.00000000e+05 1.00000000e+05 7.98106445e+02]]\n",
      "[[9.99999975e-06 9.99999975e-06 1.94002563e+02]\n",
      " [9.99999975e-06 9.99999975e-05 1.94048126e+02]\n",
      " [9.99999975e-06 1.00000005e-03 1.94483734e+02]\n",
      " [9.99999975e-06 9.99999978e-03 1.97206085e+02]]\n"
     ]
    },
    {
     "data": {
      "text/plain": [
       "array([[9.99999975e-06, 9.99999975e-06, 1.94002563e+02],\n",
       "       [9.99999975e-06, 9.99999975e-05, 1.94048126e+02],\n",
       "       [9.99999975e-06, 1.00000005e-03, 1.94483734e+02],\n",
       "       [9.99999975e-06, 9.99999978e-03, 1.97206085e+02]])"
      ]
     },
     "execution_count": 64,
     "metadata": {},
     "output_type": "execute_result"
    }
   ],
   "source": [
    "c_alpha = (10. ** (np.arange(11)-5)).astype(np.float32)\n",
    "c_b = (10. ** (np.arange(11)-5)).astype(np.float32)\n",
    "best_model_for_alpha_b(c_alpha,c_b,3)"
   ]
  },
  {
   "cell_type": "markdown",
   "metadata": {},
   "source": [
    "### 第二次最佳化"
   ]
  },
  {
   "cell_type": "code",
   "execution_count": 65,
   "metadata": {},
   "outputs": [
    {
     "name": "stdout",
     "output_type": "stream",
     "text": [
      "[[1.00000000e-05 9.99999997e-07 1.93994110e+02]\n",
      " [1.00000000e-05 1.12000002e-04 1.94054703e+02]\n",
      " [1.00000000e-05 2.22999995e-04 1.94111908e+02]\n",
      " [1.00000000e-05 3.34000011e-04 1.94165466e+02]\n",
      " [1.00000000e-05 4.45000012e-04 1.94222214e+02]\n",
      " [1.00000000e-05 5.55999984e-04 1.94277924e+02]\n",
      " [1.00000000e-05 6.67000015e-04 1.94329636e+02]\n",
      " [1.00000000e-05 7.77999987e-04 1.94387802e+02]\n",
      " [1.00000000e-05 8.89000017e-04 1.94434326e+02]\n",
      " [1.00000000e-05 1.00000005e-03 1.94483047e+02]]\n",
      "[[1.00000000e-05 9.99999997e-07 1.93994110e+02]\n",
      " [1.00000000e-05 1.12000002e-04 1.94054703e+02]\n",
      " [1.00000000e-05 2.22999995e-04 1.94111908e+02]\n",
      " [1.00000000e-05 3.34000011e-04 1.94165466e+02]]\n",
      "[[1.00000000e-05 9.99999997e-07 1.93994110e+02]\n",
      " [1.00000000e-05 1.12000002e-04 1.94054703e+02]\n",
      " [1.00000000e-05 2.22999995e-04 1.94111908e+02]\n",
      " [1.00000000e-05 3.34000011e-04 1.94165466e+02]]\n"
     ]
    }
   ],
   "source": [
    "c_alpha = np.array([1e-5])\n",
    "c_b = (np.linspace(1e-6, 1e-3,10)).astype(np.float32)\n",
    "best_2 = best_model_for_alpha_b(c_alpha,c_b,3)\n",
    "print(best_2)"
   ]
  },
  {
   "cell_type": "code",
   "execution_count": 66,
   "metadata": {},
   "outputs": [],
   "source": [
    "min_alpha = best_2[0,0]\n",
    "min_b = best_2[0,1]"
   ]
  },
  {
   "cell_type": "markdown",
   "metadata": {},
   "source": [
    "## 比較train V.S test之間是否overfitting"
   ]
  },
  {
   "cell_type": "code",
   "execution_count": 67,
   "metadata": {},
   "outputs": [],
   "source": [
    "re_3 = regression(x, y, sd = 0.5,lambda_alpha = min_alpha, lambda_b = min_b,\\\n",
    "                        training_epoch = 50000, lr = 0.01, model_select = 3)\n",
    "train = re_3.train(select_hy = 0)\n",
    "#print('train_cost = ',train[0])\n",
    "#print('test_cost = ',test[0])"
   ]
  },
  {
   "cell_type": "code",
   "execution_count": 68,
   "metadata": {},
   "outputs": [
    {
     "data": {
      "text/plain": [
       "<matplotlib.legend.Legend at 0x237c7f44cc0>"
      ]
     },
     "execution_count": 68,
     "metadata": {},
     "output_type": "execute_result"
    },
    {
     "data": {
      "image/png": "[encoded data removed]",
      "text/plain": [
       "<Figure size 432x288 with 1 Axes>"
      ]
     },
     "metadata": {},
     "output_type": "display_data"
    }
   ],
   "source": [
    "plt.plot(train[0],label = 'train')\n",
    "plt.plot(train[1],label = 'test')\n",
    "plt.legend()"
   ]
  },
  {
   "cell_type": "markdown",
   "metadata": {},
   "source": [
    "## 比較與物理模型之間的差異(全部樣本)"
   ]
  },
  {
   "cell_type": "code",
   "execution_count": 69,
   "metadata": {},
   "outputs": [
    {
     "data": {
      "text/plain": [
       "21.087475797785913"
      ]
     },
     "execution_count": 69,
     "metadata": {},
     "output_type": "execute_result"
    }
   ],
   "source": [
    "re_3.original_loss()"
   ]
  },
  {
   "cell_type": "code",
   "execution_count": 70,
   "metadata": {},
   "outputs": [
    {
     "data": {
      "text/plain": [
       "11.67921493790528"
      ]
     },
     "execution_count": 70,
     "metadata": {},
     "output_type": "execute_result"
    }
   ],
   "source": [
    "re_3.test(test_or_not = 1)"
   ]
  }
 ],
 "metadata": {
  "kernelspec": {
   "display_name": "Python 3",
   "language": "python",
   "name": "python3"
  },
  "language_info": {
   "codemirror_mode": {
    "name": "ipython",
    "version": 3
   },
   "file_extension": ".py",
   "mimetype": "text/x-python",
   "name": "python",
   "nbconvert_exporter": "python",
   "pygments_lexer": "ipython3",
   "version": "3.7.1"
  }
 },
 "nbformat": 4,
 "nbformat_minor": 2
}
